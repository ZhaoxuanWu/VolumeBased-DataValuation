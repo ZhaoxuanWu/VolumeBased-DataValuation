{
 "cells": [
  {
   "cell_type": "code",
   "execution_count": 1,
   "metadata": {},
   "outputs": [],
   "source": [
    "import pandas as pd\n",
    "import numpy as np\n",
    "import os\n",
    "import random\n",
    "import keras\n",
    "from keras.layers import LeakyReLU\n",
    "from keras.preprocessing.text import Tokenizer\n",
    "from keras.preprocessing import text\n",
    "from keras.preprocessing.sequence import pad_sequences\n",
    "from keras.models import Sequential\n",
    "from keras.layers import Embedding, Flatten, Dense, LSTM, Dropout, Bidirectional, Conv1D, MaxPooling1D\n",
    "from keras.utils import to_categorical\n",
    "from sklearn.preprocessing import LabelEncoder\n",
    "from sklearn.metrics import accuracy_score"
   ]
  },
  {
   "cell_type": "code",
   "execution_count": 2,
   "metadata": {},
   "outputs": [],
   "source": [
    "random.seed(42)"
   ]
  },
  {
   "cell_type": "code",
   "execution_count": 3,
   "metadata": {},
   "outputs": [],
   "source": [
    "df = pd.read_csv(\"../data/TripAdvisor_hotel_reviews/tripadvisor_hotel_reviews.csv\")"
   ]
  },
  {
   "cell_type": "code",
   "execution_count": 4,
   "metadata": {},
   "outputs": [
    {
     "data": {
      "text/html": [
       "<div>\n",
       "<style scoped>\n",
       "    .dataframe tbody tr th:only-of-type {\n",
       "        vertical-align: middle;\n",
       "    }\n",
       "\n",
       "    .dataframe tbody tr th {\n",
       "        vertical-align: top;\n",
       "    }\n",
       "\n",
       "    .dataframe thead th {\n",
       "        text-align: right;\n",
       "    }\n",
       "</style>\n",
       "<table border=\"1\" class=\"dataframe\">\n",
       "  <thead>\n",
       "    <tr style=\"text-align: right;\">\n",
       "      <th></th>\n",
       "      <th>Review</th>\n",
       "      <th>Rating</th>\n",
       "    </tr>\n",
       "  </thead>\n",
       "  <tbody>\n",
       "    <tr>\n",
       "      <th>0</th>\n",
       "      <td>nice hotel expensive parking got good deal sta...</td>\n",
       "      <td>4</td>\n",
       "    </tr>\n",
       "    <tr>\n",
       "      <th>1</th>\n",
       "      <td>ok nothing special charge diamond member hilto...</td>\n",
       "      <td>2</td>\n",
       "    </tr>\n",
       "    <tr>\n",
       "      <th>2</th>\n",
       "      <td>nice rooms not 4* experience hotel monaco seat...</td>\n",
       "      <td>3</td>\n",
       "    </tr>\n",
       "    <tr>\n",
       "      <th>3</th>\n",
       "      <td>unique, great stay, wonderful time hotel monac...</td>\n",
       "      <td>5</td>\n",
       "    </tr>\n",
       "    <tr>\n",
       "      <th>4</th>\n",
       "      <td>great stay great stay, went seahawk game aweso...</td>\n",
       "      <td>5</td>\n",
       "    </tr>\n",
       "    <tr>\n",
       "      <th>...</th>\n",
       "      <td>...</td>\n",
       "      <td>...</td>\n",
       "    </tr>\n",
       "    <tr>\n",
       "      <th>20486</th>\n",
       "      <td>best kept secret 3rd time staying charm, not 5...</td>\n",
       "      <td>5</td>\n",
       "    </tr>\n",
       "    <tr>\n",
       "      <th>20487</th>\n",
       "      <td>great location price view hotel great quick pl...</td>\n",
       "      <td>4</td>\n",
       "    </tr>\n",
       "    <tr>\n",
       "      <th>20488</th>\n",
       "      <td>ok just looks nice modern outside, desk staff ...</td>\n",
       "      <td>2</td>\n",
       "    </tr>\n",
       "    <tr>\n",
       "      <th>20489</th>\n",
       "      <td>hotel theft ruined vacation hotel opened sept ...</td>\n",
       "      <td>1</td>\n",
       "    </tr>\n",
       "    <tr>\n",
       "      <th>20490</th>\n",
       "      <td>people talking, ca n't believe excellent ratin...</td>\n",
       "      <td>2</td>\n",
       "    </tr>\n",
       "  </tbody>\n",
       "</table>\n",
       "<p>20491 rows × 2 columns</p>\n",
       "</div>"
      ],
      "text/plain": [
       "                                                  Review  Rating\n",
       "0      nice hotel expensive parking got good deal sta...       4\n",
       "1      ok nothing special charge diamond member hilto...       2\n",
       "2      nice rooms not 4* experience hotel monaco seat...       3\n",
       "3      unique, great stay, wonderful time hotel monac...       5\n",
       "4      great stay great stay, went seahawk game aweso...       5\n",
       "...                                                  ...     ...\n",
       "20486  best kept secret 3rd time staying charm, not 5...       5\n",
       "20487  great location price view hotel great quick pl...       4\n",
       "20488  ok just looks nice modern outside, desk staff ...       2\n",
       "20489  hotel theft ruined vacation hotel opened sept ...       1\n",
       "20490  people talking, ca n't believe excellent ratin...       2\n",
       "\n",
       "[20491 rows x 2 columns]"
      ]
     },
     "execution_count": 4,
     "metadata": {},
     "output_type": "execute_result"
    }
   ],
   "source": [
    "df"
   ]
  },
  {
   "cell_type": "code",
   "execution_count": 5,
   "metadata": {},
   "outputs": [],
   "source": [
    "df[\"split\"] = df.apply(lambda x: \"train\" if random.randrange(0,100) > 10 else \"valid\", axis=1)"
   ]
  },
  {
   "cell_type": "code",
   "execution_count": 6,
   "metadata": {},
   "outputs": [],
   "source": [
    "df_train = df[df[\"split\"] == \"train\"]\n",
    "df_val = df[df[\"split\"] == \"valid\"]"
   ]
  },
  {
   "cell_type": "code",
   "execution_count": 7,
   "metadata": {},
   "outputs": [
    {
     "data": {
      "text/plain": [
       "3        5\n",
       "4        5\n",
       "5        5\n",
       "6        5\n",
       "8        5\n",
       "        ..\n",
       "20471    5\n",
       "20473    5\n",
       "20476    5\n",
       "20480    5\n",
       "20482    5\n",
       "Name: Rating, Length: 8125, dtype: int64"
      ]
     },
     "execution_count": 7,
     "metadata": {},
     "output_type": "execute_result"
    }
   ],
   "source": [
    "df_train['Rating'][df_train['Rating'] == 5]"
   ]
  },
  {
   "cell_type": "code",
   "execution_count": 8,
   "metadata": {},
   "outputs": [],
   "source": [
    "tokenizer=Tokenizer(oov_token=\"'oov'\")\n",
    "tokenizer.fit_on_texts(df_train['Review'])"
   ]
  },
  {
   "cell_type": "code",
   "execution_count": 9,
   "metadata": {},
   "outputs": [],
   "source": [
    "maxlen = 200\n",
    "train_X = pad_sequences(tokenizer.texts_to_sequences(df_train['Review']), maxlen=maxlen)\n",
    "val_X = pad_sequences(tokenizer.texts_to_sequences(df_val['Review']), maxlen=maxlen)"
   ]
  },
  {
   "cell_type": "code",
   "execution_count": 10,
   "metadata": {},
   "outputs": [],
   "source": [
    "train_Y = df_train[\"Rating\"]\n",
    "val_Y = df_val[\"Rating\"]\n",
    "train_Y_cat = to_categorical(df_train[\"Rating\"]-1, num_classes=5)\n",
    "val_Y_cat = to_categorical(df_val[\"Rating\"]-1, num_classes=5)"
   ]
  },
  {
   "cell_type": "code",
   "execution_count": 11,
   "metadata": {},
   "outputs": [
    {
     "name": "stdout",
     "output_type": "stream",
     "text": [
      "Found 400000 word vectors \n"
     ]
    }
   ],
   "source": [
    "glove_dir = \"../data/TripAdvisor_hotel_reviews/\"\n",
    "\n",
    "embedding_index = {}\n",
    "f = open(os.path.join(glove_dir,'glove.6B.100d.txt'),encoding='utf8')\n",
    "for line in f:\n",
    "    values = line.split()\n",
    "    word = values[0]\n",
    "    coefs = np.asarray(values[1:],dtype='float32')\n",
    "    embedding_index[word] = coefs\n",
    "f.close()\n",
    "print('Found %s word vectors ' % len(embedding_index))"
   ]
  },
  {
   "cell_type": "code",
   "execution_count": 12,
   "metadata": {},
   "outputs": [],
   "source": [
    "max_words = len(tokenizer.word_index) + 1\n",
    "embedding_dim = 100\n",
    "embedding_matrix = np.zeros((max_words,embedding_dim))\n",
    "\n",
    "for word, idx in tokenizer.word_index.items():\n",
    "    embedding_vector = embedding_index.get(word)\n",
    "    if embedding_vector is not None:\n",
    "        embedding_matrix[idx]=embedding_vector"
   ]
  },
  {
   "cell_type": "code",
   "execution_count": 13,
   "metadata": {},
   "outputs": [
    {
     "name": "stdout",
     "output_type": "stream",
     "text": [
      "Model: \"sequential\"\n",
      "_________________________________________________________________\n",
      "Layer (type)                 Output Shape              Param #   \n",
      "=================================================================\n",
      "embedding (Embedding)        (None, 200, 100)          4942100   \n",
      "_________________________________________________________________\n",
      "bidirectional (Bidirectional (None, 64)                34048     \n",
      "_________________________________________________________________\n",
      "dense (Dense)                (None, 8)                 520       \n",
      "_________________________________________________________________\n",
      "leaky_re_lu (LeakyReLU)      (None, 8)                 0         \n",
      "_________________________________________________________________\n",
      "dense_1 (Dense)              (None, 1)                 9         \n",
      "=================================================================\n",
      "Total params: 4,976,677\n",
      "Trainable params: 34,577\n",
      "Non-trainable params: 4,942,100\n",
      "_________________________________________________________________\n",
      "None\n"
     ]
    }
   ],
   "source": [
    "model=Sequential()\n",
    "model.add(Embedding(max_words, embedding_dim, input_length=maxlen, weights=[embedding_matrix], trainable=False))\n",
    "model.add(Bidirectional(LSTM(32)))\n",
    "model.add(Dense(8))\n",
    "model.add(LeakyReLU(alpha=0.3))\n",
    "model.add(Dense(1, activation=\"linear\"))\n",
    "model.compile(optimizer=\"Adam\", loss='mean_squared_error', metrics=['mse'])\n",
    "print(model.summary())"
   ]
  },
  {
   "cell_type": "code",
   "execution_count": 14,
   "metadata": {},
   "outputs": [],
   "source": [
    "import os\n",
    "os.environ[\"CUDA_DEVICE_ORDER\"]=\"PCI_BUS_ID\"   # see issue #152\n",
    "os.environ[\"CUDA_VISIBLE_DEVICES\"]=\"4\""
   ]
  },
  {
   "cell_type": "code",
   "execution_count": 15,
   "metadata": {},
   "outputs": [
    {
     "name": "stdout",
     "output_type": "stream",
     "text": [
      "Epoch 1/30\n",
      "72/72 [==============================] - 20s 233ms/step - loss: 8.7550 - mse: 8.7550 - val_loss: 1.5313 - val_mse: 1.5313\n",
      "Epoch 2/30\n",
      "72/72 [==============================] - 14s 193ms/step - loss: 1.4986 - mse: 1.4986 - val_loss: 1.4485 - val_mse: 1.4485\n",
      "Epoch 3/30\n",
      "72/72 [==============================] - 12s 165ms/step - loss: 1.3954 - mse: 1.3954 - val_loss: 1.0246 - val_mse: 1.0246\n",
      "Epoch 4/30\n",
      "72/72 [==============================] - 11s 153ms/step - loss: 0.9590 - mse: 0.9590 - val_loss: 0.8202 - val_mse: 0.8202\n",
      "Epoch 5/30\n",
      "72/72 [==============================] - 10s 142ms/step - loss: 0.7140 - mse: 0.7140 - val_loss: 0.6440 - val_mse: 0.6440\n",
      "Epoch 6/30\n",
      "72/72 [==============================] - 11s 157ms/step - loss: 0.6292 - mse: 0.6292 - val_loss: 0.5892 - val_mse: 0.5892\n",
      "Epoch 7/30\n",
      "72/72 [==============================] - 11s 157ms/step - loss: 0.5661 - mse: 0.5661 - val_loss: 0.5655 - val_mse: 0.5655\n",
      "Epoch 8/30\n",
      "72/72 [==============================] - 13s 182ms/step - loss: 0.5464 - mse: 0.5464 - val_loss: 0.5591 - val_mse: 0.5591\n",
      "Epoch 9/30\n",
      "72/72 [==============================] - 13s 179ms/step - loss: 0.5040 - mse: 0.5040 - val_loss: 0.5072 - val_mse: 0.5072\n",
      "Epoch 10/30\n",
      "72/72 [==============================] - 13s 187ms/step - loss: 0.4926 - mse: 0.4926 - val_loss: 0.5058 - val_mse: 0.5058\n",
      "Epoch 11/30\n",
      "72/72 [==============================] - 14s 192ms/step - loss: 0.4603 - mse: 0.4603 - val_loss: 0.4877 - val_mse: 0.4877\n",
      "Epoch 12/30\n",
      "72/72 [==============================] - 11s 160ms/step - loss: 0.4594 - mse: 0.4594 - val_loss: 0.4853 - val_mse: 0.4853\n",
      "Epoch 13/30\n",
      "72/72 [==============================] - 13s 175ms/step - loss: 0.4477 - mse: 0.4477 - val_loss: 0.4795 - val_mse: 0.4795\n",
      "Epoch 14/30\n",
      "72/72 [==============================] - 13s 178ms/step - loss: 0.4526 - mse: 0.4526 - val_loss: 0.4676 - val_mse: 0.4676\n",
      "Epoch 15/30\n",
      "72/72 [==============================] - 13s 182ms/step - loss: 0.4186 - mse: 0.4186 - val_loss: 0.4668 - val_mse: 0.4668\n",
      "Epoch 16/30\n",
      "72/72 [==============================] - 11s 150ms/step - loss: 0.4220 - mse: 0.4220 - val_loss: 0.4967 - val_mse: 0.4967\n",
      "Epoch 17/30\n",
      "72/72 [==============================] - 10s 144ms/step - loss: 0.4153 - mse: 0.4153 - val_loss: 0.4586 - val_mse: 0.4586\n",
      "Epoch 18/30\n",
      "72/72 [==============================] - 10s 146ms/step - loss: 0.4058 - mse: 0.4058 - val_loss: 0.4611 - val_mse: 0.4611\n",
      "Epoch 19/30\n",
      "72/72 [==============================] - 10s 141ms/step - loss: 0.4013 - mse: 0.4013 - val_loss: 0.4557 - val_mse: 0.4557\n",
      "Epoch 20/30\n",
      "72/72 [==============================] - 10s 136ms/step - loss: 0.4011 - mse: 0.4011 - val_loss: 0.4606 - val_mse: 0.4606\n",
      "Epoch 21/30\n",
      "72/72 [==============================] - 10s 143ms/step - loss: 0.3837 - mse: 0.3837 - val_loss: 0.4571 - val_mse: 0.4571\n",
      "Epoch 22/30\n",
      "72/72 [==============================] - 11s 150ms/step - loss: 0.3884 - mse: 0.3884 - val_loss: 0.4763 - val_mse: 0.4763\n",
      "Epoch 23/30\n",
      "72/72 [==============================] - 11s 156ms/step - loss: 0.3676 - mse: 0.3676 - val_loss: 0.4569 - val_mse: 0.4569\n",
      "Epoch 24/30\n",
      "72/72 [==============================] - 13s 183ms/step - loss: 0.3656 - mse: 0.3656 - val_loss: 0.4516 - val_mse: 0.4516\n",
      "Epoch 25/30\n",
      "72/72 [==============================] - 13s 176ms/step - loss: 0.3639 - mse: 0.3639 - val_loss: 0.4527 - val_mse: 0.4527\n",
      "Epoch 26/30\n",
      "72/72 [==============================] - 12s 164ms/step - loss: 0.3512 - mse: 0.3512 - val_loss: 0.4541 - val_mse: 0.4541\n",
      "Epoch 27/30\n",
      "72/72 [==============================] - 11s 152ms/step - loss: 0.3428 - mse: 0.3428 - val_loss: 0.4493 - val_mse: 0.4493\n",
      "Epoch 28/30\n",
      "72/72 [==============================] - 11s 151ms/step - loss: 0.3403 - mse: 0.3403 - val_loss: 0.4475 - val_mse: 0.4475\n",
      "Epoch 29/30\n",
      "72/72 [==============================] - 12s 169ms/step - loss: 0.3306 - mse: 0.3306 - val_loss: 0.4496 - val_mse: 0.4496\n",
      "Epoch 30/30\n",
      "72/72 [==============================] - 14s 188ms/step - loss: 0.3314 - mse: 0.3314 - val_loss: 0.4592 - val_mse: 0.4592\n"
     ]
    },
    {
     "data": {
      "text/plain": [
       "<tensorflow.python.keras.callbacks.History at 0x7f460c2fb780>"
      ]
     },
     "execution_count": 15,
     "metadata": {},
     "output_type": "execute_result"
    }
   ],
   "source": [
    "model.fit(train_X, train_Y, epochs=30, batch_size=256, validation_data=(val_X, val_Y))"
   ]
  },
  {
   "cell_type": "code",
   "execution_count": 16,
   "metadata": {},
   "outputs": [],
   "source": [
    "extractor = keras.Model(inputs=model.inputs,\n",
    "                        outputs=[layer.output for layer in model.layers])\n",
    "features = extractor(train_X)"
   ]
  },
  {
   "cell_type": "code",
   "execution_count": 17,
   "metadata": {},
   "outputs": [],
   "source": [
    "X = features[-2].numpy()"
   ]
  },
  {
   "cell_type": "code",
   "execution_count": 18,
   "metadata": {},
   "outputs": [],
   "source": [
    "y = train_Y.values.reshape(-1,1)"
   ]
  },
  {
   "cell_type": "code",
   "execution_count": 22,
   "metadata": {},
   "outputs": [
    {
     "data": {
      "text/plain": [
       "array([[ 1.1798579 , -0.49264535,  1.1256189 , ...,  0.7632245 ,\n",
       "         0.17701972,  0.03133251],\n",
       "       [ 0.31453654, -0.5542245 ,  0.42863744, ...,  0.43070337,\n",
       "        -0.07814672, -0.00660958],\n",
       "       [ 1.6489334 , -0.57017606,  1.3921802 , ...,  1.0850699 ,\n",
       "        -0.0455947 ,  0.2979708 ],\n",
       "       ...,\n",
       "       [ 0.7484249 , -0.33370164,  1.0032203 , ...,  1.0528516 ,\n",
       "         0.2597388 ,  0.13129671],\n",
       "       [ 0.3649792 , -0.47781938,  0.24737458, ...,  0.02840276,\n",
       "        -0.27283886,  0.5970943 ],\n",
       "       [ 0.82802033, -0.45970428,  0.6262628 , ...,  0.2577461 ,\n",
       "        -0.045151  ,  0.10608499]], dtype=float32)"
      ]
     },
     "execution_count": 22,
     "metadata": {},
     "output_type": "execute_result"
    }
   ],
   "source": [
    "X"
   ]
  },
  {
   "cell_type": "code",
   "execution_count": 23,
   "metadata": {},
   "outputs": [
    {
     "data": {
      "text/plain": [
       "array([[4],\n",
       "       [2],\n",
       "       [5],\n",
       "       ...,\n",
       "       [2],\n",
       "       [1],\n",
       "       [2]])"
      ]
     },
     "execution_count": 23,
     "metadata": {},
     "output_type": "execute_result"
    }
   ],
   "source": [
    "y"
   ]
  },
  {
   "cell_type": "code",
   "execution_count": 35,
   "metadata": {},
   "outputs": [
    {
     "data": {
      "text/plain": [
       "0.7683413167908243"
      ]
     },
     "execution_count": 35,
     "metadata": {},
     "output_type": "execute_result"
    }
   ],
   "source": [
    "from sklearn.model_selection import train_test_split\n",
    "from sklearn.linear_model import LinearRegression\n",
    "from sklearn.metrics import r2_score\n",
    "from sklearn.preprocessing import StandardScaler\n",
    "\n",
    "X_copy = X.copy()\n",
    "y_copy = y.copy()\n",
    "\n",
    "x_scaler = StandardScaler()\n",
    "y_scaler = StandardScaler()\n",
    "X_scaled = x_scaler.fit_transform(X_copy)\n",
    "y_scaled = y_scaler.fit_transform(y_copy)\n",
    "\n",
    "# cols = [1,4,5,8,9,10,11,12,13]\n",
    "\n",
    "# X_copy['inv_V1'] = 1/X_copy['V1']\n",
    "x_train,x_test,y_train,y_test=train_test_split(X_scaled[:3000],y_scaled[:3000],test_size=0.2,random_state=1234)\n",
    "\n",
    "lm=LinearRegression()\n",
    "lm.fit(x_train,y_train)\n",
    "pred=lm.predict(x_test)\n",
    "r2_score(y_test,pred)"
   ]
  },
  {
   "cell_type": "code",
   "execution_count": 25,
   "metadata": {},
   "outputs": [
    {
     "data": {
      "text/plain": [
       "(18345, 8)"
      ]
     },
     "execution_count": 25,
     "metadata": {},
     "output_type": "execute_result"
    }
   ],
   "source": [
    "X.shape"
   ]
  },
  {
   "cell_type": "code",
   "execution_count": 26,
   "metadata": {},
   "outputs": [
    {
     "data": {
      "text/plain": [
       "(18345, 1)"
      ]
     },
     "execution_count": 26,
     "metadata": {},
     "output_type": "execute_result"
    }
   ],
   "source": [
    "y.shape"
   ]
  },
  {
   "cell_type": "code",
   "execution_count": 27,
   "metadata": {},
   "outputs": [],
   "source": [
    "np.savez('../data/TripAdvisor_hotel_reviews/extracted_features.npz', X=X, y=y)"
   ]
  },
  {
   "cell_type": "code",
   "execution_count": null,
   "metadata": {},
   "outputs": [],
   "source": []
  }
 ],
 "metadata": {
  "kernelspec": {
   "display_name": "general",
   "language": "python",
   "name": "general"
  },
  "language_info": {
   "codemirror_mode": {
    "name": "ipython",
    "version": 3
   },
   "file_extension": ".py",
   "mimetype": "text/x-python",
   "name": "python",
   "nbconvert_exporter": "python",
   "pygments_lexer": "ipython3",
   "version": "3.6.13"
  }
 },
 "nbformat": 4,
 "nbformat_minor": 4
}
